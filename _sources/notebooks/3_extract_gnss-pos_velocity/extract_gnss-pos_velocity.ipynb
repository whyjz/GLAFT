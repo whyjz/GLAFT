{
 "cells": [
  {
   "cell_type": "markdown",
   "id": "16a37434-7324-4596-8d93-a8c87130819b",
   "metadata": {},
   "source": [
    "# Extract velocity map data at GNSS locations\n",
    "\n",
    "This script samples velocity at GNSS locations and updates all `pt*` fields in `notebooks/results_2022.csv`.\n",
    "\n",
    "To reproduce this workflow, make sure you have downloaded all necessary input files (velocity maps and static terrain geometries) from https://doi.org/10.17605/OSF.IO/HE7YR and have updated the `Vx` and `Vy` columns in `notebooks/results_2022.csv` with the downloaded file paths before starting the analysis."
   ]
  },
  {
   "cell_type": "code",
   "execution_count": 2,
   "id": "b22e9d11-4146-40a5-a30b-eb2bac9dda23",
   "metadata": {},
   "outputs": [],
   "source": [
    "from glaft.georaster import Raster\n",
    "import rasterio\n",
    "import pandas as pd\n",
    "import geopandas as gpd\n",
    "import numpy as np\n",
    "\n",
    "df = pd.read_csv('../results_2022.csv', dtype=str)\n",
    "# df"
   ]
  },
  {
   "cell_type": "markdown",
   "id": "67b719f8-86ee-4e98-97b1-0c8ceeae4939",
   "metadata": {},
   "source": [
    "The cell below provides a sanity check for `glaft.georaster.Raster`'s `value_at_coords` method."
   ]
  },
  {
   "cell_type": "code",
   "execution_count": 5,
   "id": "c891263c-0af0-45d7-8e31-94d9da119b6b",
   "metadata": {},
   "outputs": [],
   "source": [
    "tmp = Raster(df.loc[0, 'Vx'])\n",
    "a, b = tmp.value_at_coords(621306.41954208, 6738829.50233354, window=3, return_window=True)\n",
    "vx_grid = rasterio.open(df.loc[0, 'Vx'])\n",
    "sample_gen_vx = vx_grid.sample([(621306.41954208, 6738829.50233354)])\n",
    "vx_sampled = np.array([float(record) for record in sample_gen_vx])"
   ]
  },
  {
   "cell_type": "markdown",
   "id": "189f806c-0e66-4b37-b63b-d80a04e2694f",
   "metadata": {},
   "source": [
    "Now let's start the analysis. If you download these files from https://doi.org/10.17605/OSF.IO/HE7YR, make sure to change the paths to the correct file locations on your local machine."
   ]
  },
  {
   "cell_type": "code",
   "execution_count": 7,
   "id": "39c3bfdd-c705-4424-a89f-f9e13b80a1fd",
   "metadata": {},
   "outputs": [],
   "source": [
    "gps_files = ['/home/jovyan/Projects/PX_comparison/GPS/Kaskawulsh_2018-04-05_to_2018-03-04_GPS', \n",
    "             '/home/jovyan/Projects/PX_comparison/GPS/Kaskawulsh_2018-08-18_to_2018-08-02_GPS',\n",
    "             '/home/jovyan/Projects/PX_comparison/GPS/Kaskawulsh_2018-03-14_to_2018-03-04_GPS',\n",
    "             '/home/jovyan/Projects/PX_comparison/GPS/Kaskawulsh_2018-06-27_to_2018-05-08_GPS']\n",
    "\n",
    "datestrs = ['LS8-20180304-20180405', 'LS8-20180802-20180818', 'Sen2-20180304-20180314', 'Sen2-20180508-20180627']\n",
    "datenums = [32, 16, 10, 50]"
   ]
  },
  {
   "cell_type": "markdown",
   "id": "eb6ef5bf-b7ff-4580-bb28-9a4930177a50",
   "metadata": {},
   "source": [
    "Steps here: \n",
    "\n",
    "1. Get and print the UTM coordinates of three GNSS statations for each scene pair.\n",
    "2. Sample every velocity maps.\n",
    "3. Create additional fields and calculate the difference between GNSS and feature tracked measurements."
   ]
  },
  {
   "cell_type": "code",
   "execution_count": 8,
   "id": "69f44d0e-8ff5-44ba-9a8f-f01078f13c8a",
   "metadata": {},
   "outputs": [
    {
     "name": "stdout",
     "output_type": "stream",
     "text": [
      "LS8-20180304-20180405 [(621306.41954208, 6738829.50233354), (610435.5249175, 6737129.57698521), (601733.22946583, 6733710.66504834)]\n",
      "LS8-20180802-20180818 [(621363.01607688, 6738895.12164604), (610506.52739125, 6737089.56006354), (601790.43877479, 6733753.77267354)]\n",
      "Sen2-20180304-20180314 [(621306.41954208, 6738829.50233354), (610435.5249175, 6737129.57698521), (601733.22946583, 6733710.66504834)]\n",
      "Sen2-20180508-20180627 [(621324.96198502, 6738852.60218059), (610481.28682665, 6737102.95371238), (601790.4387747, 6733753.77267354)]\n"
     ]
    }
   ],
   "source": [
    "for gps_file, datestr, datenum in zip(gps_files, datestrs, datenums):\n",
    "    gps = pd.read_csv(gps_file) \n",
    "    # Additional treatment for Sen2-20180508-20180627\n",
    "    # many of the points here should be (nan, nan), (nan, nan) but nans does not work with rio.sample\n",
    "    if datestr == 'Sen2-20180508-20180627':\n",
    "        gps.loc[1, 'end_easting'] = 610481.2868266493\n",
    "        gps.loc[1, 'end_northing'] = 6737102.953712379\n",
    "        gps.loc[2, 'end_easting'] = 601790.4387747\n",
    "        gps.loc[2, 'end_northing'] = 6733753.77267354\n",
    "        gps = gps.loc[0:2]\n",
    "    gps = gpd.GeoDataFrame(gps, geometry=gpd.points_from_xy(gps['end_easting'], gps['end_northing']), crs='EPSG:32607')\n",
    "    # This is beginning coordinates\n",
    "    gps_xy = list(gps[['end_easting', 'end_northing']].to_records(index=False))\n",
    "    print(datestr, gps_xy)\n",
    "    \n",
    "    gps['vx (m/d)']  = (gps['start_easting'] - gps['end_easting']) / datenum\n",
    "    gps['vy (m/d)']  = (gps['start_northing'] - gps['end_northing']) / datenum\n",
    "    \n",
    "    df_s = df.loc[df['Date'] == datestr]\n",
    "    for idx, row in df_s.iterrows():\n",
    "        vx_grid = Raster(row.Vx)\n",
    "        vy_grid = Raster(row.Vy)\n",
    "        sampled = []\n",
    "        for x, y in gps_xy:\n",
    "            vx_avg, vx_3by3 = vx_grid.value_at_coords(x, y, window=3, return_window=True)\n",
    "            vy_avg, vy_3by3 = vy_grid.value_at_coords(x, y, window=3, return_window=True)\n",
    "            vx_3by3[vx_3by3 < -9998] = np.nan\n",
    "            vy_3by3[vy_3by3 < -9998] = np.nan\n",
    "            vx_3by3[vx_3by3 == 0.0] = np.nan    #Vmap\n",
    "            vy_3by3[vy_3by3 == 0.0] = np.nan    #Vmap\n",
    "            vx_nn = vx_3by3[0, 1, 1]     # nearest neighbor value\n",
    "            vy_nn = vy_3by3[0, 1, 1]\n",
    "            if np.any(~np.isnan(vx_3by3)):\n",
    "                vx_avg = np.nanmean(vx_3by3)\n",
    "            else:\n",
    "                vx_avg = np.nan\n",
    "            if np.any(~np.isnan(vy_3by3)):\n",
    "                vy_avg = np.nanmean(vy_3by3)\n",
    "            else:\n",
    "                vy_avg = np.nan\n",
    "                \n",
    "            vx_nn -= float(df.loc[idx, 'SAV-peak-x'])\n",
    "            vx_avg -= float(df.loc[idx, 'SAV-peak-x'])\n",
    "            vy_nn -= float(df.loc[idx, 'SAV-peak-y'])\n",
    "            vy_avg -= float(df.loc[idx, 'SAV-peak-y'])\n",
    "            \n",
    "            sampled.append([vx_nn, vx_avg, vy_nn, vy_avg])\n",
    "        \n",
    "        sampled = np.array(sampled)\n",
    "        # print(row.Vx, float(df.loc[idx, 'SAV-peak-x']), float(df.loc[idx, 'SAV-peak-y']), sampled)\n",
    "        \n",
    "        df.loc[idx, 'pt0_vxdiff'] = sampled[0, 0] - gps.loc[0, 'vx (m/d)']\n",
    "        df.loc[idx, 'pt0_vxavgdiff'] = sampled[0, 1] - gps.loc[0, 'vx (m/d)']\n",
    "        df.loc[idx, 'pt0_vydiff'] = sampled[0, 2] - gps.loc[0, 'vy (m/d)']\n",
    "        df.loc[idx, 'pt0_vyavgdiff'] = sampled[0, 3] - gps.loc[0, 'vy (m/d)']\n",
    "        df.loc[idx, 'pt1_vxdiff'] = sampled[1, 0] - gps.loc[1, 'vx (m/d)']\n",
    "        df.loc[idx, 'pt1_vxavgdiff'] = sampled[1, 1] - gps.loc[1, 'vx (m/d)']\n",
    "        df.loc[idx, 'pt1_vydiff'] = sampled[1, 2] - gps.loc[1, 'vy (m/d)']\n",
    "        df.loc[idx, 'pt1_vyavgdiff'] = sampled[1, 3] - gps.loc[1, 'vy (m/d)']\n",
    "        df.loc[idx, 'pt2_vxdiff'] = sampled[2, 0] - gps.loc[2, 'vx (m/d)']\n",
    "        df.loc[idx, 'pt2_vxavgdiff'] = sampled[2, 1] - gps.loc[2, 'vx (m/d)']\n",
    "        df.loc[idx, 'pt2_vydiff'] = sampled[2, 2] - gps.loc[2, 'vy (m/d)']\n",
    "        df.loc[idx, 'pt2_vyavgdiff'] = sampled[2, 3] - gps.loc[2, 'vy (m/d)']"
   ]
  },
  {
   "cell_type": "markdown",
   "id": "d3d2d805-bc0c-4899-ad5c-5407647494da",
   "metadata": {},
   "source": [
    "You can comment/uncomment these lines to examine the data/results."
   ]
  },
  {
   "cell_type": "code",
   "execution_count": 9,
   "id": "7ce908bd-e663-4ce9-a7cc-3c11c12c2372",
   "metadata": {},
   "outputs": [
    {
     "data": {
      "text/html": [
       "<div>\n",
       "<style scoped>\n",
       "    .dataframe tbody tr th:only-of-type {\n",
       "        vertical-align: middle;\n",
       "    }\n",
       "\n",
       "    .dataframe tbody tr th {\n",
       "        vertical-align: top;\n",
       "    }\n",
       "\n",
       "    .dataframe thead th {\n",
       "        text-align: right;\n",
       "    }\n",
       "</style>\n",
       "<table border=\"1\" class=\"dataframe\">\n",
       "  <thead>\n",
       "    <tr style=\"text-align: right;\">\n",
       "      <th></th>\n",
       "      <th>Unnamed: 0</th>\n",
       "      <th>date1</th>\n",
       "      <th>date2</th>\n",
       "      <th>start_easting</th>\n",
       "      <th>start_northing</th>\n",
       "      <th>end_easting</th>\n",
       "      <th>end_northing</th>\n",
       "      <th>distance_traveled (m)</th>\n",
       "      <th>velocity (m/d)</th>\n",
       "      <th>geometry</th>\n",
       "      <th>vx (m/d)</th>\n",
       "      <th>vy (m/d)</th>\n",
       "    </tr>\n",
       "  </thead>\n",
       "  <tbody>\n",
       "    <tr>\n",
       "      <th>0</th>\n",
       "      <td>0</td>\n",
       "      <td>2018-06-27</td>\n",
       "      <td>2018-05-08</td>\n",
       "      <td>621348.115449</td>\n",
       "      <td>6.738880e+06</td>\n",
       "      <td>621324.961985</td>\n",
       "      <td>6.738853e+06</td>\n",
       "      <td>36.045525</td>\n",
       "      <td>0.720837</td>\n",
       "      <td>POINT (621324.962 6738852.602)</td>\n",
       "      <td>0.463069</td>\n",
       "      <td>0.55252</td>\n",
       "    </tr>\n",
       "    <tr>\n",
       "      <th>1</th>\n",
       "      <td>1</td>\n",
       "      <td>2018-06-27</td>\n",
       "      <td>2018-05-08</td>\n",
       "      <td>610481.286827</td>\n",
       "      <td>6.737103e+06</td>\n",
       "      <td>610481.286827</td>\n",
       "      <td>6.737103e+06</td>\n",
       "      <td>NaN</td>\n",
       "      <td>NaN</td>\n",
       "      <td>POINT (610481.287 6737102.954)</td>\n",
       "      <td>0.000000</td>\n",
       "      <td>0.00000</td>\n",
       "    </tr>\n",
       "    <tr>\n",
       "      <th>2</th>\n",
       "      <td>2</td>\n",
       "      <td>2018-06-27</td>\n",
       "      <td>2018-05-08</td>\n",
       "      <td>NaN</td>\n",
       "      <td>NaN</td>\n",
       "      <td>601790.438775</td>\n",
       "      <td>6.733754e+06</td>\n",
       "      <td>NaN</td>\n",
       "      <td>NaN</td>\n",
       "      <td>POINT (601790.439 6733753.773)</td>\n",
       "      <td>NaN</td>\n",
       "      <td>NaN</td>\n",
       "    </tr>\n",
       "  </tbody>\n",
       "</table>\n",
       "</div>"
      ],
      "text/plain": [
       "   Unnamed: 0       date1       date2  start_easting  start_northing  \\\n",
       "0           0  2018-06-27  2018-05-08  621348.115449    6.738880e+06   \n",
       "1           1  2018-06-27  2018-05-08  610481.286827    6.737103e+06   \n",
       "2           2  2018-06-27  2018-05-08            NaN             NaN   \n",
       "\n",
       "     end_easting  end_northing  distance_traveled (m)  velocity (m/d)  \\\n",
       "0  621324.961985  6.738853e+06              36.045525        0.720837   \n",
       "1  610481.286827  6.737103e+06                    NaN             NaN   \n",
       "2  601790.438775  6.733754e+06                    NaN             NaN   \n",
       "\n",
       "                         geometry  vx (m/d)  vy (m/d)  \n",
       "0  POINT (621324.962 6738852.602)  0.463069   0.55252  \n",
       "1  POINT (610481.287 6737102.954)  0.000000   0.00000  \n",
       "2  POINT (601790.439 6733753.773)       NaN       NaN  "
      ]
     },
     "execution_count": 9,
     "metadata": {},
     "output_type": "execute_result"
    }
   ],
   "source": [
    "gps\n",
    "# df"
   ]
  },
  {
   "cell_type": "code",
   "execution_count": 12,
   "id": "9775b0d9-454b-4d94-bf6c-7e37936d0d68",
   "metadata": {},
   "outputs": [],
   "source": [
    "df.to_csv('../results_2022.csv', index=False)"
   ]
  },
  {
   "cell_type": "code",
   "execution_count": null,
   "id": "9619d35e-70ee-49d6-8c3e-542a1511bf04",
   "metadata": {},
   "outputs": [],
   "source": []
  }
 ],
 "metadata": {
  "kernelspec": {
   "display_name": "Python [conda env:.conda-eztrack]",
   "language": "python",
   "name": "conda-env-.conda-eztrack-py"
  },
  "language_info": {
   "codemirror_mode": {
    "name": "ipython",
    "version": 3
   },
   "file_extension": ".py",
   "mimetype": "text/x-python",
   "name": "python",
   "nbconvert_exporter": "python",
   "pygments_lexer": "ipython3",
   "version": "3.9.16"
  }
 },
 "nbformat": 4,
 "nbformat_minor": 5
}
