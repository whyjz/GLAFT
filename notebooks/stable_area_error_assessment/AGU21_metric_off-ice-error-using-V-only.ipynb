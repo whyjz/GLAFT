{
 "cells": [
  {
   "cell_type": "markdown",
   "id": "ed0c9130-b28b-492e-8d1c-3f4ab562985e",
   "metadata": {},
   "source": [
    "## Metric: post-correction off-ice errors\n",
    "\n",
    "See `metric_off-ice-error.ipynb` for more information. Here is an alternative solution when only **V** is available instead of **Vx** and **Vy**."
   ]
  },
  {
   "cell_type": "code",
   "execution_count": 1,
   "id": "1f18de6f-4149-498b-91b1-c226dbef148c",
   "metadata": {},
   "outputs": [],
   "source": [
    "# Developer's setting\n",
    "%load_ext autoreload\n",
    "%autoreload 2"
   ]
  },
  {
   "cell_type": "code",
   "execution_count": 2,
   "id": "134c64b3-d42a-4d62-881b-1f9691d34d3d",
   "metadata": {},
   "outputs": [],
   "source": [
    "import gftt\n",
    "import matplotlib.pyplot as plt\n",
    "import rasterio\n",
    "from rasterio.plot import show\n",
    "import numpy as np\n",
    "import geopandas as gpd"
   ]
  },
  {
   "cell_type": "code",
   "execution_count": 3,
   "id": "686c2dda-93d1-4108-81bb-ad2c888056ac",
   "metadata": {},
   "outputs": [],
   "source": [
    "# GIV file (V)\n",
    "giv_geotiff = '../../data/GIV/Landsat_raw/20180304_20180405.tif'\n",
    "# off-ice area\n",
    "in_shp = '../../data/shapefiles/bedrock_V1.shp'"
   ]
  },
  {
   "cell_type": "markdown",
   "id": "2349d3d7-e0a2-4145-8800-a8be79235d55",
   "metadata": {},
   "source": [
    "#### FT results with $V$ (GIV input)\n",
    "\n",
    "The `off_ice_errors` has a different syntax for the input with only $V$ available. (Note the unit of $V$ here is m/year instead of m/day.)"
   ]
  },
  {
   "cell_type": "code",
   "execution_count": 4,
   "id": "a24cda6f-bb3e-4f76-b07d-57899f538c40",
   "metadata": {},
   "outputs": [
    {
     "data": {
      "image/png": "[encoded data removed]",
      "text/plain": [
       "<Figure size 576x576 with 1 Axes>"
      ]
     },
     "metadata": {
      "needs_background": "light"
     },
     "output_type": "display_data"
    }
   ],
   "source": [
    "v, bins = gftt.off_ice_errors(vfile=giv_geotiff, off_ice_area=in_shp)"
   ]
  },
  {
   "cell_type": "markdown",
   "id": "1ddec448-d7fb-45eb-b4d7-870655e2bde1",
   "metadata": {},
   "source": [
    "This shows the histogram of velocity $V^2 = V_x^2 + V_y^2$. X-axis is in m$^2$/year$^2$. If we assume \n",
    "\n",
    "1. $\\overline{V_x} = \\overline{V_y} = 0$ (i.e. no biased offset at the off-ice area), and\n",
    "2. the variance of $V_x$ is the same from the variance of $V_y$ ($\\sigma^2 = \\sigma_x^2 = \\sigma_y^2$),\n",
    "\n",
    "then theoretically $V^2 / \\sigma^2$ follows a Chi-square distribution with a mean value of its degree of freedom, $k = 2$,\n",
    "\n",
    "$$\n",
    "\\frac{V^2}{\\sigma^2} \\sim \\chi^2(k, 2k).\n",
    "$$\n",
    "\n",
    "We can firstly find out $\\sigma^2$ from the mean value of $V^2$ divided by the degree of freedom:\n",
    "\n",
    "$$\n",
    "\\sigma^2 =  \\frac{\\overline{V^2}}{k}\n",
    "$$"
   ]
  },
  {
   "cell_type": "code",
   "execution_count": 5,
   "id": "495a5c7b-1c6b-474c-841b-ea3ff006a783",
   "metadata": {},
   "outputs": [
    {
     "data": {
      "text/plain": [
       "4688.3508334802345"
      ]
     },
     "execution_count": 5,
     "metadata": {},
     "output_type": "execute_result"
    }
   ],
   "source": [
    "sigma2 = np.mean(v ** 2) / 2\n",
    "sigma2   # in m^2/year^2"
   ]
  },
  {
   "cell_type": "markdown",
   "id": "7458d70b-ad74-474d-8168-8db4416c6d4c",
   "metadata": {},
   "source": [
    "To test if $V^2 / \\sigma^2$ resembles Chi-square, we can calculate the variance of $V^2 / \\sigma^2$ divided by the mean value of of $V^2 / \\sigma^2$ and see if it is close to 2: "
   ]
  },
  {
   "cell_type": "code",
   "execution_count": 6,
   "id": "e190d79a-5483-4cbe-bfcf-b043fe1c4d40",
   "metadata": {},
   "outputs": [
    {
     "data": {
      "text/plain": [
       "6.497069177323472"
      ]
     },
     "execution_count": 6,
     "metadata": {},
     "output_type": "execute_result"
    }
   ],
   "source": [
    "chi2 = v ** 2 / sigma2\n",
    "\n",
    "np.var(chi2, ddof=1) / np.mean(chi2)"
   ]
  },
  {
   "cell_type": "markdown",
   "id": "642bfbc8-affe-456c-840f-8816f8752977",
   "metadata": {},
   "source": [
    "This is a much larger value than 2, which means there are outliers, and $\\sigma^2$ is very likely an over-estimate. Again, this is okay as we are conservative about the uncertainty estimate.\n",
    "\n",
    "Finally, the square root of $\\sigma^2$ can be assigned as the overall uncertainty of both on-ice and off-ice pixels (for $V_x$ or $V_y$, not for $V$) and can be directly compared to the results from the previous section. "
   ]
  },
  {
   "cell_type": "code",
   "execution_count": 7,
   "id": "9510a39a-6293-41f2-940f-a1bc691ed718",
   "metadata": {},
   "outputs": [
    {
     "name": "stdout",
     "output_type": "stream",
     "text": [
      "Vx and Vy std: 0.187465  m/day\n"
     ]
    }
   ],
   "source": [
    "print('Vx and Vy std: {:5f}  m/day'.format(np.sqrt(sigma2) / 365.25))"
   ]
  },
  {
   "cell_type": "markdown",
   "id": "f9b78d76-aef1-4e1b-b53c-aa45dccc0ffb",
   "metadata": {},
   "source": [
    "This gives as a random error on the bedrock of ~0.19 m/day."
   ]
  }
 ],
 "metadata": {
  "kernelspec": {
   "display_name": "Python [conda env:.conda-eztrack]",
   "language": "python",
   "name": "conda-env-.conda-eztrack-py"
  },
  "language_info": {
   "codemirror_mode": {
    "name": "ipython",
    "version": 3
   },
   "file_extension": ".py",
   "mimetype": "text/x-python",
   "name": "python",
   "nbconvert_exporter": "python",
   "pygments_lexer": "ipython3",
   "version": "3.9.4"
  }
 },
 "nbformat": 4,
 "nbformat_minor": 5
}
