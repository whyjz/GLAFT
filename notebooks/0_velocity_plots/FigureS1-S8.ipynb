{
 "cells": [
  {
   "cell_type": "markdown",
   "id": "8f7157c9-a034-4baf-bb9d-a759410839cb",
   "metadata": {},
   "source": [
    "# Figures S1-S8: All 172 test velocity maps\n",
    "\n",
    "The label of each panel in Figures S1-S8 indicates the corresponding parameter combination, formatted as (Software)-(Template size)-(Pixel spacing)-(Prefilter). For Vmap results, the subpixel method is also shown in the label. See Table S1 for parameter abbrevations.\n",
    "\n",
    "To reproduce these figures, see bottom of this page.\n",
    "\n",
    "![](figs/LS8-20180304-20180405-Vx.png)\n",
    "**Figure S1.** $V_x$ (positive toward image east) of the pair `LS8-20180304-20180405`.\n",
    "\n",
    "![](figs/LS8-20180304-20180405-Vy.png)\n",
    "**Figure S2.** $V_y$ (positive toward image north) of the pair `LS8-20180304-20180405`.\n",
    "\n",
    "![](figs/LS8-20180802-20180818-Vx.png)\n",
    "**Figure S3.** $V_x$ (positive toward image east) of the pair `LS8-20180802-20180818`.\n",
    "\n",
    "![](figs/LS8-20180802-20180818-Vy.png)\n",
    "**Figure S4.** $V_y$ (positive toward image north) of the pair `LS8-20180802-20180818`.\n",
    "\n",
    "![](figs/Sen2-20180304-20180314-Vx.png)\n",
    "**Figure S5.** $V_x$ (positive toward image east) of the pair `Sen2-20180304-20180314`.\n",
    "\n",
    "![](figs/Sen2-20180304-20180314-Vy.png)\n",
    "**Figure S6.** $V_y$ (positive toward image north) of the pair `Sen2-20180304-20180314`.\n",
    "\n",
    "![](figs/Sen2-20180508-20180627-Vx.png)\n",
    "**Figure S7.** $V_x$ (positive toward image east) of the pair `Sen2-20180508-20180627`.\n",
    "\n",
    "![](figs/Sen2-20180508-20180627-Vy.png)\n",
    "**Figure S8.** $V_y$ (positive toward image north) of the pair `Sen2-20180508-20180627`.\n",
    "\n",
    "## Code for reproducing the figures"
   ]
  },
  {
   "cell_type": "code",
   "execution_count": 1,
   "id": "37529d64-0b6d-40bd-a660-ee3c3ef6d3cc",
   "metadata": {},
   "outputs": [],
   "source": [
    "import pandas as pd\n",
    "import glaft\n",
    "import matplotlib as mpl\n",
    "import matplotlib.pyplot as plt"
   ]
  },
  {
   "cell_type": "code",
   "execution_count": 2,
   "id": "53c386c4-0f29-48e3-bc93-63c2fc1e4ce4",
   "metadata": {},
   "outputs": [],
   "source": [
    "font = {'size'   : 13}\n",
    "mpl.rc('font', **font)\n",
    "axes_settings = {'linewidth'   : 2}\n",
    "mpl.rc('axes', **axes_settings)\n",
    "\n",
    "def plot_batch(sub_df, component: str='Vx', datestr: str=''):\n",
    "    fig, axs = plt.subplots(8, 6, figsize=(20, 21), constrained_layout=True)\n",
    "    n = 0\n",
    "    for idx, row in sub_df.iterrows():\n",
    "        templatesize = row['Template size (px)']\n",
    "        templatesize = 'multi' if templatesize == 'varying: multi-pass' else templatesize\n",
    "        if row.Software == 'Vmap':\n",
    "            label = '-'.join((row.Software, templatesize, row['Pixel spacing (m)'], row.Prefilter)) + '\\n' + row.Subpixel\n",
    "        else:\n",
    "            label = '-'.join((row.Software, templatesize, row['Pixel spacing (m)'], row.Prefilter))\n",
    "        ax_sel = axs[n // 6, n % 6]\n",
    "        glaft.show_velocomp(row[component], ax=ax_sel)\n",
    "        ax_sel.set_title(label)\n",
    "        n += 1\n",
    "    \n",
    "    for i in range(n, 48):\n",
    "        ax_sel = axs[i // 6, i % 6]\n",
    "        fig.delaxes(ax_sel)\n",
    "        \n",
    "    if component == 'Vx':\n",
    "        cbar_label = '$V_x$ (m/day)'\n",
    "    elif component == 'Vy':\n",
    "        cbar_label = '$V_y$ (m/day)'\n",
    "    cbar_label = datestr + '\\n' + cbar_label\n",
    "    cax = fig.add_axes([0.2, 0.09, 0.17, 0.017])\n",
    "\n",
    "    mappable = glaft.prep_colorbar_mappable()    \n",
    "    fig.colorbar(mappable, cax=cax, orientation='horizontal', label=cbar_label)\n",
    "    \n",
    "    return fig, axs"
   ]
  },
  {
   "cell_type": "markdown",
   "id": "5392bef0-af27-4ca1-ae1f-e5d82c2b3c45",
   "metadata": {},
   "source": [
    "To reproduce the figures, uncomment and run the cell below. "
   ]
  },
  {
   "cell_type": "code",
   "execution_count": 3,
   "id": "88ed844b-6f2e-4819-bcde-561b99d14f55",
   "metadata": {},
   "outputs": [],
   "source": [
    "# df = pd.read_csv('../manifest.csv', dtype=str)\n",
    "# datestrs = ['LS8-20180304-20180405', 'LS8-20180802-20180818', 'Sen2-20180304-20180314', 'Sen2-20180508-20180627']\n",
    "\n",
    "# for datestr in datestrs:\n",
    "#     sub_df = df.loc[df['Date'] == datestr]\n",
    "#     for component in ['Vx', 'Vy']:\n",
    "#         fig, axs = plot_batch(sub_df, component=component, datestr=datestr)\n",
    "#         fig.patch.set_facecolor('xkcd:white')\n",
    "#         fig.savefig('figs/{}-{}.png'.format(datestr, component))"
   ]
  }
 ],
 "metadata": {
  "kernelspec": {
   "display_name": "Python [conda env:.conda-eztrack]",
   "language": "python",
   "name": "conda-env-.conda-eztrack-py"
  },
  "language_info": {
   "codemirror_mode": {
    "name": "ipython",
    "version": 3
   },
   "file_extension": ".py",
   "mimetype": "text/x-python",
   "name": "python",
   "nbconvert_exporter": "python",
   "pygments_lexer": "ipython3",
   "version": "3.9.13"
  }
 },
 "nbformat": 4,
 "nbformat_minor": 5
}
