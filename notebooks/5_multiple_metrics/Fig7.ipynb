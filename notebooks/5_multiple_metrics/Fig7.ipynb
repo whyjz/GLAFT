{
 "cells": [
  {
   "cell_type": "markdown",
   "id": "50262cfc-8e6f-4aa1-9758-919c593c5329",
   "metadata": {},
   "source": [
    "# Figure 7 script"
   ]
  },
  {
   "cell_type": "code",
   "execution_count": 1,
   "id": "5fcc5943-e726-4b88-a76c-9633c5421598",
   "metadata": {},
   "outputs": [],
   "source": [
    "import matplotlib.pyplot as plt\n",
    "from matplotlib.colors import LinearSegmentedColormap\n",
    "import numpy as np\n",
    "import pandas as pd\n",
    "import seaborn as sns\n",
    "import matplotlib as mpl\n",
    "# from datetime import datetime"
   ]
  },
  {
   "cell_type": "code",
   "execution_count": 2,
   "id": "4fb51fb4-7df0-4dcb-ad73-b070a30a6aff",
   "metadata": {},
   "outputs": [],
   "source": [
    "font = {'size'   : 20}\n",
    "mpl.rc('font', **font)\n",
    "mpl.rc('legend', fontsize=16)\n",
    "axes_settings = {'linewidth'   : 2}\n",
    "mpl.rc('axes', **axes_settings)"
   ]
  },
  {
   "cell_type": "code",
   "execution_count": 3,
   "id": "a522727f-1063-4436-98cd-7ea80eb1c2d8",
   "metadata": {},
   "outputs": [],
   "source": [
    "# df = pd.read_csv('../results_ITSLIVE.csv', dtype=str)\n",
    "# for field in ['Duration (days)',\n",
    "#               'Pixel spacing (m)',\n",
    "#               'Assigned-x-error',\n",
    "#               'Assigned-y-error',\n",
    "#               'SAV-uncertainty-x',\n",
    "#               'SAV-uncertainty-y',\n",
    "#               'SAV-peak-x',\n",
    "#               'SAV-peak-y',\n",
    "#               'SAV-outlier-percent',\n",
    "#               'LSR-uncertainty-nm',\n",
    "#               'LSR-uncertainty-sh',\n",
    "#               'pt0_vxavg',\n",
    "#               'pt0_vxgps',\n",
    "#               'pt0_vyavg',\n",
    "#               'pt0_vygps',\n",
    "#               'pt1_vxavg',\n",
    "#               'pt1_vxgps',\n",
    "#               'pt1_vyavg',\n",
    "#               'pt1_vygps',\n",
    "#               'pt2_vxavg',\n",
    "#               'pt2_vxgps',\n",
    "#               'pt2_vyavg',\n",
    "#               'pt2_vygps',\n",
    "#               'pt0_vxdiff',\n",
    "#               'pt0_vydiff',\n",
    "#               'pt1_vxdiff',\n",
    "#               'pt1_vydiff',\n",
    "#               'pt2_vxdiff',\n",
    "#               'pt2_vydiff',\n",
    "#               'pt0_vxavgdiff',\n",
    "#               'pt0_vyavgdiff',\n",
    "#               'pt1_vxavgdiff',\n",
    "#               'pt1_vyavgdiff',\n",
    "#               'pt2_vxavgdiff',\n",
    "#               'pt2_vyavgdiff',\n",
    "#               'pt0_vavg', \n",
    "#               'pt0_vgps',\n",
    "#               'pt0_vdiff',\n",
    "#               'pt0_verr',\n",
    "#               'pt1_vavg', \n",
    "#               'pt1_vgps',\n",
    "#               'pt1_vdiff',\n",
    "#               'pt1_verr',\n",
    "#               'pt2_vavg', \n",
    "#               'pt2_vgps',\n",
    "#               'pt2_vdiff',\n",
    "#               'pt2_verr',\n",
    "#               ]:\n",
    "#     df[field] = df[field].astype(float)"
   ]
  },
  {
   "cell_type": "code",
   "execution_count": 4,
   "id": "d23b44e4-3b81-44b0-813a-14eeda4296cd",
   "metadata": {},
   "outputs": [],
   "source": [
    "df = pd.read_csv('../results_ITSLIVE.csv', dtype=str)\n",
    "for field in ['Assigned-x-error',\n",
    "              'Assigned-y-error',\n",
    "              'SAV-uncertainty-x',\n",
    "              'SAV-uncertainty-y',\n",
    "              'SAV-peak-x',\n",
    "              'SAV-peak-y',\n",
    "              'SAV-outlier-percent',\n",
    "              'LSR-uncertainty-nm',\n",
    "              'LSR-uncertainty-sh',\n",
    "              ]:\n",
    "    df[field] = df[field].astype(float)"
   ]
  },
  {
   "cell_type": "code",
   "execution_count": 5,
   "id": "6bc19e6a-7367-4ea4-bc48-7e4406cd636e",
   "metadata": {},
   "outputs": [],
   "source": [
    "# for idx, row in df.iterrows():\n",
    "#     df.loc[idx, 'Start date'] = datetime.strptime(row['Start date'], '%Y%m%d')\n",
    "#     df.loc[idx, 'End date'] = datetime.strptime(row['End date'], '%Y%m%d')"
   ]
  },
  {
   "cell_type": "code",
   "execution_count": 6,
   "id": "fc631dcf-656f-4337-9c4e-d255d902b3e0",
   "metadata": {},
   "outputs": [],
   "source": [
    "# df['Center date'] = (df['End date'] - df['Start date']) / 2 + df['Start date']"
   ]
  },
  {
   "cell_type": "code",
   "execution_count": 7,
   "id": "435e8721-3727-4a31-b7e0-dda0c786a5e0",
   "metadata": {},
   "outputs": [],
   "source": [
    "df['SAV-uncertainty-x-m/day'] = df['SAV-uncertainty-x'] / 365\n",
    "df['SAV-uncertainty-y-m/day'] = df['SAV-uncertainty-y'] / 365\n",
    "df['Assigned-x-error-m/day'] = df['Assigned-x-error'] / 365\n",
    "df['Assigned-y-error-m/day'] = df['Assigned-y-error'] / 365\n",
    "df['LSR-uncertainty-nm-1/day'] = df['LSR-uncertainty-nm'] / 365\n",
    "df['LSR-uncertainty-sh-1/day'] = df['LSR-uncertainty-sh'] / 365"
   ]
  },
  {
   "cell_type": "code",
   "execution_count": 8,
   "id": "ebd53be2-4fc0-4de6-9dc3-eeae70ff9d48",
   "metadata": {},
   "outputs": [],
   "source": [
    "df['Assigned-x-error-m/day-95CI'] = df['Assigned-x-error-m/day'] * 2\n",
    "df['Assigned-y-error-m/day-95CI'] = df['Assigned-y-error-m/day'] * 2"
   ]
  },
  {
   "cell_type": "code",
   "execution_count": null,
   "id": "4f459774-b823-42af-8c12-323484ca149e",
   "metadata": {},
   "outputs": [],
   "source": []
  },
  {
   "cell_type": "code",
   "execution_count": 12,
   "id": "9df9d1a9-1133-4e73-8e7a-a4fe7df39359",
   "metadata": {},
   "outputs": [
    {
     "data": {
      "image/png": "[encoded data removed]",
      "text/html": [
       "<div style=\"vertical-align: middle;\"><strong>Custom rocket_r</strong> </div><div class=\"cmap\"><img alt=\"Custom rocket_r colormap\" title=\"Custom rocket_r\" style=\"border: 1px solid #555;\" src=\"data:image/png;base64,iVBORw0KGgoAAAANSUhEUgAAAgAAAABACAYAAABsv8+/AAAAHnRFWHRUaXRsZQBDdXN0b20gcm9ja2V0X3IgY29sb3JtYXBDGHz2AAAAJHRFWHREZXNjcmlwdGlvbgBDdXN0b20gcm9ja2V0X3IgY29sb3JtYXCJpJWZAAAAMHRFWHRBdXRob3IATWF0cGxvdGxpYiB2My40LjIsIGh0dHBzOi8vbWF0cGxvdGxpYi5vcmes1mPdAAAAMnRFWHRTb2Z0d2FyZQBNYXRwbG90bGliIHYzLjQuMiwgaHR0cHM6Ly9tYXRwbG90bGliLm9yZ4Jw/PoAAAFFSURBVHic7dYxDcIAFABRQEUlk3RASRXURsf6ICRNwAV/uPcU3Hj397F/b2R91ud0AoO2fZlOYNDrOqcTGPSYDgAA/s8AAECQAQCAIAMAAEEGAACCDAAABBkAAAgyAAAQZAAAIMgAAECQAQCAIAMAAEEGAACCDAAABBkAAAgyAAAQZAAAIMgAAECQAQCAIAMAAEEGAACCDAAABBkAAAgyAAAQZAAAIMgAAECQAQCAIAMAAEEGAACCDAAABBkAAAgyAAAQZAAAIMgAAECQAQCAIAMAAEEGAACCDAAABBkAAAgyAAAQZAAAIMgAAECQAQCAIAMAAEEGAACCDAAABBkAAAgyAAAQZAAAIMgAAECQAQCAIAMAAEEGAACCDAAABBkAAAgyAAAQZAAAIMgAAECQAQCAIAMAAEEGAACCDAAABBkAAAj6AfqrCfj+1rNsAAAAAElFTkSuQmCC\"></div><div style=\"vertical-align: middle; max-width: 514px; display: flex; justify-content: space-between;\"><div style=\"float: left;\"><div title=\"#f8d4bcff\" style=\"display: inline-block; width: 1em; height: 1em; margin: 0; vertical-align: middle; border: 1px solid #555; background-color: #f8d4bcff;\"></div> under</div><div style=\"margin: 0 auto; display: inline-block;\">bad <div title=\"#00000000\" style=\"display: inline-block; width: 1em; height: 1em; margin: 0; vertical-align: middle; border: 1px solid #555; background-color: #00000000;\"></div></div><div style=\"float: right;\">over <div title=\"#2d1738ff\" style=\"display: inline-block; width: 1em; height: 1em; margin: 0; vertical-align: middle; border: 1px solid #555; background-color: #2d1738ff;\"></div></div>"
      ],
      "text/plain": [
       "<matplotlib.colors.LinearSegmentedColormap at 0x7f81e4ce7be0>"
      ]
     },
     "execution_count": 12,
     "metadata": {},
     "output_type": "execute_result"
    }
   ],
   "source": [
    "cmap = sns.color_palette(\"rocket_r\", as_cmap=True)\n",
    "cmaplist = [cmap(i) for i in range(15, cmap.N, 70)]\n",
    "discrete_cmap = LinearSegmentedColormap.from_list('Custom rocket_r', cmaplist, len(cmaplist))\n",
    "discrete_cmap"
   ]
  },
  {
   "cell_type": "code",
   "execution_count": 11,
   "id": "09dc7426-ecbb-4518-9831-b45bd1025dd7",
   "metadata": {},
   "outputs": [
    {
     "data": {
      "image/png": "[encoded data removed]",
      "text/plain": [
       "<Figure size 504x504 with 2 Axes>"
      ]
     },
     "metadata": {},
     "output_type": "display_data"
    }
   ],
   "source": [
    "fig, ax = plt.subplots(1, 1, figsize=(7, 7), constrained_layout=True)\n",
    "sns.scatterplot(data=df, x='SAV-uncertainty-x-m/day', y='Assigned-x-error-m/day-95CI', hue='LSR-uncertainty-sh-1/day', hue_norm=(0.002,0.01), palette=discrete_cmap, s=60, ax=ax, legend=False)\n",
    "ax.plot([0, 1], [0, 1], '--', color='k')\n",
    "ax.set_aspect('equal', adjustable='box')\n",
    "ax.set_xlim(0, 1)\n",
    "ax.set_ylim(0, 1)\n",
    "ax.set_xlabel('$\\delta_u$ (m day$^{-1}$)')\n",
    "ax.set_ylabel('ITS_LIVE $V_x$ error (2-$\\sigma$, m day$^{-1}$)')\n",
    "# ax.get_legend().set_title(\"$\\delta_{x'y'}$ (day$^{-1}$)\")\n",
    "\n",
    "## legend:\n",
    "## < 0.004 lvl 1 \n",
    "## 0.004 - 0.006 lvl 2\n",
    "## 0.006 - 0.008 lvl 3\n",
    "## > 0.008 lvl 4\n",
    "\n",
    "# bounds = np.linspace(0, 256, 5)\n",
    "# norm = mpl.colors.BoundaryNorm(bounds, cmap.N)\n",
    "norm = mpl.colors.Normalize(vmin=0.002, vmax=0.01)\n",
    "mappable = mpl.cm.ScalarMappable(norm=norm, cmap=discrete_cmap)\n",
    "# mappable = mpl.cm.ScalarMappable(norm=norm, cmap=discrete_cmap)\n",
    "\n",
    "# cax = subfigs[3].add_axes([0.0, bbox_top.y0 + 0.02, 0.15, bbox_top.y1 - bbox_top.y0 - 0.02])\n",
    "# subfigs[3].colorbar(mappable_velo, cax=cax, orientation='vertical', label='$V_x$ ({})'.format(exp.velocity_unit), ticks=[-2, -1, 0, 1, 2])\n",
    "\n",
    "ax2 = fig.add_axes([0.7, 0.2, 0.08, 0.3])\n",
    "fig.colorbar(mappable, cax=ax2, orientation='vertical', ticks=[0.004, 0.006, 0.008]) #, label='$V_x$ ({})'.format(exp.velocity_unit))\n",
    "# , norm=norm,\n",
    "#    spacing='proportional', ticks=bounds, boundaries=bounds, format='%1i')\n",
    "\n",
    "ax2.set_title(\"$\\delta_{x'y'}$ (day$^{-1}$)\", size=19)\n",
    "\n",
    "# save figure\n",
    "fig.patch.set_facecolor('xkcd:white')\n",
    "fig.savefig('Fig7.png', dpi=200)"
   ]
  },
  {
   "cell_type": "code",
   "execution_count": null,
   "id": "cc5ae50a-2346-48d2-9493-1bc97e58e5ec",
   "metadata": {},
   "outputs": [],
   "source": []
  }
 ],
 "metadata": {
  "kernelspec": {
   "display_name": "Python [conda env:.conda-eztrack]",
   "language": "python",
   "name": "conda-env-.conda-eztrack-py"
  },
  "language_info": {
   "codemirror_mode": {
    "name": "ipython",
    "version": 3
   },
   "file_extension": ".py",
   "mimetype": "text/x-python",
   "name": "python",
   "nbconvert_exporter": "python",
   "pygments_lexer": "ipython3",
   "version": "3.9.13"
  }
 },
 "nbformat": 4,
 "nbformat_minor": 5
}
