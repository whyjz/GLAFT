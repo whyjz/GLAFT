{
 "cells": [
  {
   "cell_type": "markdown",
   "id": "1a7e8640-8ef7-4026-85bc-8e5d549e3270",
   "metadata": {},
   "source": [
    "# Quick Start\n",
    "\n",
    "## Input\n",
    "\n",
    "The current version of GLAFT accepts velocity data with x and y components stored in separate raster files (with a format compatible with the Python rasterio package, such as GeoTiff). \n"
   ]
  }
 ],
 "metadata": {
  "kernelspec": {
   "display_name": "Python [conda env:.conda-eztrack]",
   "language": "python",
   "name": "conda-env-.conda-eztrack-py"
  },
  "language_info": {
   "codemirror_mode": {
    "name": "ipython",
    "version": 3
   },
   "file_extension": ".py",
   "mimetype": "text/x-python",
   "name": "python",
   "nbconvert_exporter": "python",
   "pygments_lexer": "ipython3",
   "version": "3.9.13"
  }
 },
 "nbformat": 4,
 "nbformat_minor": 5
}
